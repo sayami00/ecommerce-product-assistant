{
 "cells": [
  {
   "cell_type": "code",
   "execution_count": 1,
   "id": "ad7c9fa2",
   "metadata": {},
   "outputs": [
    {
     "name": "stdout",
     "output_type": "stream",
     "text": [
      "test\n"
     ]
    }
   ],
   "source": [
    "print(\"test\")"
   ]
  },
  {
   "cell_type": "code",
   "execution_count": null,
   "id": "cd763a50",
   "metadata": {},
   "outputs": [],
   "source": [
    "b64=\"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\""
   ]
  },
  {
   "cell_type": "code",
   "execution_count": null,
   "id": "54596daf",
   "metadata": {},
   "outputs": [],
   "source": [
    "import base64\n",
    "import numpy as np\n",
    "\n",
    "decoded = base64.b64decode(b64)\n",
    "vector = np.frombuffer(decoded, dtype=np.float32)\n",
    "print(vector.tolist())"
   ]
  },
  {
   "cell_type": "code",
   "execution_count": null,
   "id": "f35cc99f",
   "metadata": {},
   "outputs": [],
   "source": [
    "%pip install -qU langchain-community pypdf"
   ]
  },
  {
   "cell_type": "code",
   "execution_count": null,
   "id": "856b1b13",
   "metadata": {},
   "outputs": [],
   "source": [
    "from langchain_community.document_loaders import PyPDFLoader\n",
    "file_path = r\"E:\\AI_workshop\\LLMops_Projects\\ecommerce-product-assistant\\notebook\\test.ipynb\""
   ]
  },
  {
   "cell_type": "code",
   "execution_count": null,
   "id": "8b82ba05",
   "metadata": {},
   "outputs": [],
   "source": [
    "loader = PyPDFLoader(file_path)\n"
   ]
  },
  {
   "cell_type": "code",
   "execution_count": null,
   "id": "5127199b",
   "metadata": {},
   "outputs": [],
   "source": [
    "docs = loader.load()"
   ]
  },
  {
   "cell_type": "code",
   "execution_count": null,
   "id": "a1accb27",
   "metadata": {},
   "outputs": [],
   "source": [
    "docs"
   ]
  },
  {
   "cell_type": "code",
   "execution_count": null,
   "id": "2d3e9ef6",
   "metadata": {},
   "outputs": [],
   "source": [
    "from langchain_text_splitters import RecursiveCharacterTextSplitter"
   ]
  },
  {
   "cell_type": "code",
   "execution_count": null,
   "id": "dd1d4b33",
   "metadata": {},
   "outputs": [],
   "source": [
    "text_splitter = RecursiveCharacterTextSplitter(chunk_size=100, chunk_overlap=0)"
   ]
  },
  {
   "cell_type": "code",
   "execution_count": null,
   "id": "6c26b025",
   "metadata": {},
   "outputs": [],
   "source": [
    "texts = text_splitter.split_documents(docs)"
   ]
  },
  {
   "cell_type": "code",
   "execution_count": null,
   "id": "7124c2a4",
   "metadata": {},
   "outputs": [],
   "source": [
    "texts"
   ]
  },
  {
   "cell_type": "code",
   "execution_count": null,
   "id": "da2232ab",
   "metadata": {},
   "outputs": [],
   "source": [
    "from langchain_community.document_loaders import CSVLoader"
   ]
  },
  {
   "cell_type": "code",
   "execution_count": null,
   "id": "63bc1ee9",
   "metadata": {},
   "outputs": [],
   "source": [
    "csv_path=r'D:\\\\complete_content_new\\\\llmops-batch\\\\ecomm-prod-assistant\\\\data\\\\product_reviews.csv'"
   ]
  },
  {
   "cell_type": "code",
   "execution_count": null,
   "id": "24af32f5",
   "metadata": {},
   "outputs": [],
   "source": [
    "'product_id','product_title','rating','total_reviews','price','top_reviews'\n"
   ]
  },
  {
   "cell_type": "code",
   "execution_count": null,
   "id": "8d060da4",
   "metadata": {},
   "outputs": [],
   "source": [
    "loader = CSVLoader(file_path=csv_path,\n",
    "    csv_args={\n",
    "    'delimiter': ',',\n",
    "    'quotechar': '\"',\n",
    "    'fieldnames': ['product_id','product_title','rating','total_reviews','price','top_reviews'],\n",
    "    },\n",
    "    encoding=\"utf-8\"\n",
    "    )"
   ]
  },
  {
   "cell_type": "code",
   "execution_count": null,
   "id": "925adafa",
   "metadata": {},
   "outputs": [],
   "source": [
    "docs = loader.load()"
   ]
  },
  {
   "cell_type": "code",
   "execution_count": null,
   "id": "4dea462e",
   "metadata": {},
   "outputs": [],
   "source": [
    "docs"
   ]
  },
  {
   "cell_type": "code",
   "execution_count": null,
   "id": "1b587496",
   "metadata": {},
   "outputs": [],
   "source": [
    "docs[1]"
   ]
  },
  {
   "cell_type": "code",
   "execution_count": null,
   "id": "85ffe6bb",
   "metadata": {},
   "outputs": [],
   "source": [
    "Dcument(metadata={'source': 'D:\\\\\\\\complete_content_new\\\\\\\\llmops-batch\\\\\\\\ecomm-prod-assistant\\\\\\\\data\\\\\\\\product_reviews.csv', 'row': 1}, page_content='product_id: itm7579ed94ca647\\nproduct_title: Apple iPhone 15 (Pink, 128 GB)\\nrating: 4.6\\ntotal_reviews: 9,407\\nprice: ₹64,900\\ntop_reviews: 5 Worth every penny Just go for it.Amazing one.Beautiful camera with super fast processor READ MORE bijaya mohanty Certified Buyer , Baleshwar May, 2024 4317 1058 Permalink Report Abuse || 5 Fabulous! So beautiful, so elegant, just a vowww😍❤️ READ MORE Akshay Meena Certified Buyer , Jaipur Nov, 2023 897 202 Permalink Report Abuse')o"
   ]
  },
  {
   "cell_type": "code",
   "execution_count": null,
   "id": "8c473e8c",
   "metadata": {},
   "outputs": [],
   "source": [
    "from prompt_library.prompts import PROMPT_REGISTRY, PromptType"
   ]
  },
  {
   "cell_type": "code",
   "execution_count": null,
   "id": "3463ac87",
   "metadata": {},
   "outputs": [],
   "source": [
    "prompt=PROMPT_REGISTRY[PromptType.PRODUCT_BOT].template"
   ]
  },
  {
   "cell_type": "code",
   "execution_count": null,
   "id": "1bf85436",
   "metadata": {},
   "outputs": [],
   "source": [
    "prompt"
   ]
  },
  {
   "cell_type": "code",
   "execution_count": null,
   "id": "92e1dd1d",
   "metadata": {},
   "outputs": [],
   "source": [
    "filled_prompt = prompt.format(context=\"iPhone 15 Pro, 4.8⭐\", question=\"Is this good for gaming?\")\n",
    "print(filled_prompt)"
   ]
  },
  {
   "cell_type": "code",
   "execution_count": null,
   "id": "d1f884fe",
   "metadata": {},
   "outputs": [],
   "source": []
  },
  {
   "cell_type": "code",
   "execution_count": null,
   "id": "4cd61ecb",
   "metadata": {},
   "outputs": [],
   "source": []
  }
 ],
 "metadata": {
  "kernelspec": {
   "display_name": "venv",
   "language": "python",
   "name": "python3"
  },
  "language_info": {
   "codemirror_mode": {
    "name": "ipython",
    "version": 3
   },
   "file_extension": ".py",
   "mimetype": "text/x-python",
   "name": "python",
   "nbconvert_exporter": "python",
   "pygments_lexer": "ipython3",
   "version": "3.10.18"
  }
 },
 "nbformat": 4,
 "nbformat_minor": 5
}
