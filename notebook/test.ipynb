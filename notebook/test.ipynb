{
 "cells": [
  {
   "cell_type": "code",
   "execution_count": null,
   "id": "ad7c9fa2",
   "metadata": {
    "vscode": {
     "languageId": "plaintext"
    }
   },
   "outputs": [],
   "source": [
    "print(\"test\")"
   ]
  },
  {
   "cell_type": "code",
   "execution_count": null,
   "id": "cd763a50",
   "metadata": {
    "vscode": {
     "languageId": "plaintext"
    }
   },
   "outputs": [],
   "source": [
    "b64=\"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\""
   ]
  },
  {
   "cell_type": "code",
   "execution_count": null,
   "id": "54596daf",
   "metadata": {
    "vscode": {
     "languageId": "plaintext"
    }
   },
   "outputs": [],
   "source": [
    "import base64\n",
    "import numpy as np\n",
    "\n",
    "decoded = base64.b64decode(b64)\n",
    "vector = np.frombuffer(decoded, dtype=np.float32)\n",
    "print(vector.tolist())"
   ]
  },
  {
   "cell_type": "code",
   "execution_count": null,
   "id": "f35cc99f",
   "metadata": {
    "vscode": {
     "languageId": "plaintext"
    }
   },
   "outputs": [],
   "source": [
    "%pip install -qU langchain-community pypdf"
   ]
  },
  {
   "cell_type": "code",
   "execution_count": null,
   "id": "856b1b13",
   "metadata": {
    "vscode": {
     "languageId": "plaintext"
    }
   },
   "outputs": [],
   "source": [
    "from langchain_community.document_loaders import PyPDFLoader\n",
    "file_path = r\"E:\\AI_workshop\\LLMops_Projects\\ecommerce-product-assistant\\notebook\\test.ipynb\""
   ]
  },
  {
   "cell_type": "code",
   "execution_count": null,
   "id": "8b82ba05",
   "metadata": {
    "vscode": {
     "languageId": "plaintext"
    }
   },
   "outputs": [],
   "source": [
    "loader = PyPDFLoader(file_path)\n"
   ]
  },
  {
   "cell_type": "code",
   "execution_count": null,
   "id": "5127199b",
   "metadata": {
    "vscode": {
     "languageId": "plaintext"
    }
   },
   "outputs": [],
   "source": [
    "docs = loader.load()"
   ]
  },
  {
   "cell_type": "code",
   "execution_count": null,
   "id": "a1accb27",
   "metadata": {
    "vscode": {
     "languageId": "plaintext"
    }
   },
   "outputs": [],
   "source": [
    "docs"
   ]
  },
  {
   "cell_type": "code",
   "execution_count": null,
   "id": "2d3e9ef6",
   "metadata": {
    "vscode": {
     "languageId": "plaintext"
    }
   },
   "outputs": [],
   "source": [
    "from langchain_text_splitters import RecursiveCharacterTextSplitter"
   ]
  },
  {
   "cell_type": "code",
   "execution_count": null,
   "id": "dd1d4b33",
   "metadata": {
    "vscode": {
     "languageId": "plaintext"
    }
   },
   "outputs": [],
   "source": [
    "text_splitter = RecursiveCharacterTextSplitter(chunk_size=100, chunk_overlap=0)"
   ]
  },
  {
   "cell_type": "code",
   "execution_count": null,
   "id": "6c26b025",
   "metadata": {
    "vscode": {
     "languageId": "plaintext"
    }
   },
   "outputs": [],
   "source": [
    "texts = text_splitter.split_documents(docs)"
   ]
  },
  {
   "cell_type": "code",
   "execution_count": null,
   "id": "7124c2a4",
   "metadata": {
    "vscode": {
     "languageId": "plaintext"
    }
   },
   "outputs": [],
   "source": [
    "texts"
   ]
  },
  {
   "cell_type": "code",
   "execution_count": null,
   "id": "da2232ab",
   "metadata": {
    "vscode": {
     "languageId": "plaintext"
    }
   },
   "outputs": [],
   "source": [
    "from langchain_community.document_loaders import CSVLoader"
   ]
  },
  {
   "cell_type": "code",
   "execution_count": null,
   "id": "63bc1ee9",
   "metadata": {
    "vscode": {
     "languageId": "plaintext"
    }
   },
   "outputs": [],
   "source": [
    "csv_path=r'D:\\\\complete_content_new\\\\llmops-batch\\\\ecomm-prod-assistant\\\\data\\\\product_reviews.csv'"
   ]
  },
  {
   "cell_type": "code",
   "execution_count": null,
   "id": "24af32f5",
   "metadata": {
    "vscode": {
     "languageId": "plaintext"
    }
   },
   "outputs": [],
   "source": [
    "'product_id','product_title','rating','total_reviews','price','top_reviews'\n"
   ]
  },
  {
   "cell_type": "code",
   "execution_count": null,
   "id": "8d060da4",
   "metadata": {
    "vscode": {
     "languageId": "plaintext"
    }
   },
   "outputs": [],
   "source": [
    "loader = CSVLoader(file_path=csv_path,\n",
    "    csv_args={\n",
    "    'delimiter': ',',\n",
    "    'quotechar': '\"',\n",
    "    'fieldnames': ['product_id','product_title','rating','total_reviews','price','top_reviews'],\n",
    "    },\n",
    "    encoding=\"utf-8\"\n",
    "    )"
   ]
  },
  {
   "cell_type": "code",
   "execution_count": null,
   "id": "925adafa",
   "metadata": {
    "vscode": {
     "languageId": "plaintext"
    }
   },
   "outputs": [],
   "source": [
    "docs = loader.load()"
   ]
  },
  {
   "cell_type": "code",
   "execution_count": null,
   "id": "4dea462e",
   "metadata": {
    "vscode": {
     "languageId": "plaintext"
    }
   },
   "outputs": [],
   "source": [
    "docs"
   ]
  },
  {
   "cell_type": "code",
   "execution_count": null,
   "id": "1b587496",
   "metadata": {
    "vscode": {
     "languageId": "plaintext"
    }
   },
   "outputs": [],
   "source": [
    "docs[1]"
   ]
  },
  {
   "cell_type": "code",
   "execution_count": null,
   "id": "85ffe6bb",
   "metadata": {
    "vscode": {
     "languageId": "plaintext"
    }
   },
   "outputs": [],
   "source": [
    "Dcument(metadata={'source': 'D:\\\\\\\\complete_content_new\\\\\\\\llmops-batch\\\\\\\\ecomm-prod-assistant\\\\\\\\data\\\\\\\\product_reviews.csv', 'row': 1}, page_content='product_id: itm7579ed94ca647\\nproduct_title: Apple iPhone 15 (Pink, 128 GB)\\nrating: 4.6\\ntotal_reviews: 9,407\\nprice: ₹64,900\\ntop_reviews: 5 Worth every penny Just go for it.Amazing one.Beautiful camera with super fast processor READ MORE bijaya mohanty Certified Buyer , Baleshwar May, 2024 4317 1058 Permalink Report Abuse || 5 Fabulous! So beautiful, so elegant, just a vowww😍❤️ READ MORE Akshay Meena Certified Buyer , Jaipur Nov, 2023 897 202 Permalink Report Abuse')o"
   ]
  },
  {
   "cell_type": "code",
   "execution_count": null,
   "id": "8c473e8c",
   "metadata": {
    "vscode": {
     "languageId": "plaintext"
    }
   },
   "outputs": [],
   "source": [
    "from prompt_library.prompts import PROMPT_REGISTRY, PromptType"
   ]
  },
  {
   "cell_type": "code",
   "execution_count": null,
   "id": "3463ac87",
   "metadata": {
    "vscode": {
     "languageId": "plaintext"
    }
   },
   "outputs": [],
   "source": [
    "prompt=PROMPT_REGISTRY[PromptType.PRODUCT_BOT].template"
   ]
  },
  {
   "cell_type": "code",
   "execution_count": null,
   "id": "1bf85436",
   "metadata": {
    "vscode": {
     "languageId": "plaintext"
    }
   },
   "outputs": [],
   "source": [
    "prompt"
   ]
  },
  {
   "cell_type": "code",
   "execution_count": null,
   "id": "92e1dd1d",
   "metadata": {
    "vscode": {
     "languageId": "plaintext"
    }
   },
   "outputs": [],
   "source": [
    "filled_prompt = prompt.format(context=\"iPhone 15 Pro, 4.8⭐\", question=\"Is this good for gaming?\")\n",
    "print(filled_prompt)"
   ]
  },
  {
   "cell_type": "code",
   "execution_count": null,
   "id": "d1f884fe",
   "metadata": {
    "vscode": {
     "languageId": "plaintext"
    }
   },
   "outputs": [],
   "source": []
  },
  {
   "cell_type": "code",
   "execution_count": null,
   "id": "4cd61ecb",
   "metadata": {
    "vscode": {
     "languageId": "plaintext"
    }
   },
   "outputs": [],
   "source": []
  }
 ],
 "metadata": {
  "language_info": {
   "name": "python"
  }
 },
 "nbformat": 4,
 "nbformat_minor": 5
}
